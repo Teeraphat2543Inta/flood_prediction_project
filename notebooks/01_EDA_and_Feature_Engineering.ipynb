{
 "cells": [
  {
   "cell_type": "code",
   "execution_count": 4,
   "metadata": {},
   "outputs": [],
   "source": [
    "import pandas as pd\n",
    "import sys"
   ]
  },
  {
   "cell_type": "code",
   "execution_count": 6,
   "metadata": {},
   "outputs": [
    {
     "data": {
      "text/plain": [
       "'/Users/thanutjunnim/Documents/vs_code/benz_talibun/09_google_earth_engin/notebooks'"
      ]
     },
     "execution_count": 6,
     "metadata": {},
     "output_type": "execute_result"
    }
   ],
   "source": [
    "pwd"
   ]
  },
  {
   "cell_type": "code",
   "execution_count": 36,
   "metadata": {},
   "outputs": [],
   "source": [
    "path = '/Users/thanutjunnim/Documents/vs_code/benz_talibun/09_google_earth_engin/data/processed/processed_training_data.csv'\n",
    "df = pd.read_csv(path)"
   ]
  },
  {
   "cell_type": "code",
   "execution_count": 38,
   "metadata": {},
   "outputs": [
    {
     "data": {
      "text/html": [
       "<div>\n",
       "<style scoped>\n",
       "    .dataframe tbody tr th:only-of-type {\n",
       "        vertical-align: middle;\n",
       "    }\n",
       "\n",
       "    .dataframe tbody tr th {\n",
       "        vertical-align: top;\n",
       "    }\n",
       "\n",
       "    .dataframe thead th {\n",
       "        text-align: right;\n",
       "    }\n",
       "</style>\n",
       "<table border=\"1\" class=\"dataframe\">\n",
       "  <thead>\n",
       "    <tr style=\"text-align: right;\">\n",
       "      <th></th>\n",
       "      <th>Unnamed: 0</th>\n",
       "      <th>sea_level_m</th>\n",
       "      <th>water_level_m</th>\n",
       "      <th>satellite_water_index_s1_vv</th>\n",
       "      <th>sea_level_m_tide</th>\n",
       "      <th>local_water_level_m</th>\n",
       "      <th>satellite_rainfall_mm_hr</th>\n",
       "      <th>satellite_water_index_s1_vv_water_extent</th>\n",
       "    </tr>\n",
       "  </thead>\n",
       "  <tbody>\n",
       "    <tr>\n",
       "      <th>0</th>\n",
       "      <td>2025-05-23 11:49:40.190085+07:00</td>\n",
       "      <td>NaN</td>\n",
       "      <td>NaN</td>\n",
       "      <td>NaN</td>\n",
       "      <td>0.999575</td>\n",
       "      <td>0.944277</td>\n",
       "      <td>0.0</td>\n",
       "      <td>NaN</td>\n",
       "    </tr>\n",
       "    <tr>\n",
       "      <th>1</th>\n",
       "      <td>2025-05-23 12:49:40.190085+07:00</td>\n",
       "      <td>NaN</td>\n",
       "      <td>NaN</td>\n",
       "      <td>NaN</td>\n",
       "      <td>1.285114</td>\n",
       "      <td>1.339664</td>\n",
       "      <td>0.0</td>\n",
       "      <td>NaN</td>\n",
       "    </tr>\n",
       "    <tr>\n",
       "      <th>2</th>\n",
       "      <td>2025-05-23 13:49:40.190085+07:00</td>\n",
       "      <td>NaN</td>\n",
       "      <td>NaN</td>\n",
       "      <td>NaN</td>\n",
       "      <td>1.446502</td>\n",
       "      <td>1.056508</td>\n",
       "      <td>0.0</td>\n",
       "      <td>NaN</td>\n",
       "    </tr>\n",
       "    <tr>\n",
       "      <th>3</th>\n",
       "      <td>2025-05-23 14:49:40.190085+07:00</td>\n",
       "      <td>NaN</td>\n",
       "      <td>NaN</td>\n",
       "      <td>NaN</td>\n",
       "      <td>1.495307</td>\n",
       "      <td>1.014849</td>\n",
       "      <td>0.0</td>\n",
       "      <td>NaN</td>\n",
       "    </tr>\n",
       "    <tr>\n",
       "      <th>4</th>\n",
       "      <td>2025-05-23 15:49:40.190085+07:00</td>\n",
       "      <td>NaN</td>\n",
       "      <td>NaN</td>\n",
       "      <td>NaN</td>\n",
       "      <td>1.476946</td>\n",
       "      <td>1.094191</td>\n",
       "      <td>0.0</td>\n",
       "      <td>NaN</td>\n",
       "    </tr>\n",
       "    <tr>\n",
       "      <th>...</th>\n",
       "      <td>...</td>\n",
       "      <td>...</td>\n",
       "      <td>...</td>\n",
       "      <td>...</td>\n",
       "      <td>...</td>\n",
       "      <td>...</td>\n",
       "      <td>...</td>\n",
       "      <td>...</td>\n",
       "    </tr>\n",
       "    <tr>\n",
       "      <th>716</th>\n",
       "      <td>2025-06-22 07:49:40.190085+07:00</td>\n",
       "      <td>NaN</td>\n",
       "      <td>NaN</td>\n",
       "      <td>NaN</td>\n",
       "      <td>0.687475</td>\n",
       "      <td>0.835298</td>\n",
       "      <td>0.0</td>\n",
       "      <td>NaN</td>\n",
       "    </tr>\n",
       "    <tr>\n",
       "      <th>717</th>\n",
       "      <td>2025-06-22 08:49:40.190085+07:00</td>\n",
       "      <td>NaN</td>\n",
       "      <td>NaN</td>\n",
       "      <td>NaN</td>\n",
       "      <td>0.486388</td>\n",
       "      <td>1.123966</td>\n",
       "      <td>0.0</td>\n",
       "      <td>NaN</td>\n",
       "    </tr>\n",
       "    <tr>\n",
       "      <th>718</th>\n",
       "      <td>2025-06-22 09:49:40.190085+07:00</td>\n",
       "      <td>NaN</td>\n",
       "      <td>NaN</td>\n",
       "      <td>NaN</td>\n",
       "      <td>0.534636</td>\n",
       "      <td>1.144645</td>\n",
       "      <td>0.0</td>\n",
       "      <td>NaN</td>\n",
       "    </tr>\n",
       "    <tr>\n",
       "      <th>719</th>\n",
       "      <td>2025-06-22 10:49:40.190085+07:00</td>\n",
       "      <td>NaN</td>\n",
       "      <td>NaN</td>\n",
       "      <td>NaN</td>\n",
       "      <td>0.677898</td>\n",
       "      <td>1.081898</td>\n",
       "      <td>0.0</td>\n",
       "      <td>NaN</td>\n",
       "    </tr>\n",
       "    <tr>\n",
       "      <th>720</th>\n",
       "      <td>2025-06-22 11:49:40.190085+07:00</td>\n",
       "      <td>NaN</td>\n",
       "      <td>NaN</td>\n",
       "      <td>NaN</td>\n",
       "      <td>0.932843</td>\n",
       "      <td>1.186959</td>\n",
       "      <td>0.0</td>\n",
       "      <td>NaN</td>\n",
       "    </tr>\n",
       "  </tbody>\n",
       "</table>\n",
       "<p>721 rows × 8 columns</p>\n",
       "</div>"
      ],
      "text/plain": [
       "                           Unnamed: 0  sea_level_m  water_level_m  \\\n",
       "0    2025-05-23 11:49:40.190085+07:00          NaN            NaN   \n",
       "1    2025-05-23 12:49:40.190085+07:00          NaN            NaN   \n",
       "2    2025-05-23 13:49:40.190085+07:00          NaN            NaN   \n",
       "3    2025-05-23 14:49:40.190085+07:00          NaN            NaN   \n",
       "4    2025-05-23 15:49:40.190085+07:00          NaN            NaN   \n",
       "..                                ...          ...            ...   \n",
       "716  2025-06-22 07:49:40.190085+07:00          NaN            NaN   \n",
       "717  2025-06-22 08:49:40.190085+07:00          NaN            NaN   \n",
       "718  2025-06-22 09:49:40.190085+07:00          NaN            NaN   \n",
       "719  2025-06-22 10:49:40.190085+07:00          NaN            NaN   \n",
       "720  2025-06-22 11:49:40.190085+07:00          NaN            NaN   \n",
       "\n",
       "     satellite_water_index_s1_vv  sea_level_m_tide  local_water_level_m  \\\n",
       "0                            NaN          0.999575             0.944277   \n",
       "1                            NaN          1.285114             1.339664   \n",
       "2                            NaN          1.446502             1.056508   \n",
       "3                            NaN          1.495307             1.014849   \n",
       "4                            NaN          1.476946             1.094191   \n",
       "..                           ...               ...                  ...   \n",
       "716                          NaN          0.687475             0.835298   \n",
       "717                          NaN          0.486388             1.123966   \n",
       "718                          NaN          0.534636             1.144645   \n",
       "719                          NaN          0.677898             1.081898   \n",
       "720                          NaN          0.932843             1.186959   \n",
       "\n",
       "     satellite_rainfall_mm_hr  satellite_water_index_s1_vv_water_extent  \n",
       "0                         0.0                                       NaN  \n",
       "1                         0.0                                       NaN  \n",
       "2                         0.0                                       NaN  \n",
       "3                         0.0                                       NaN  \n",
       "4                         0.0                                       NaN  \n",
       "..                        ...                                       ...  \n",
       "716                       0.0                                       NaN  \n",
       "717                       0.0                                       NaN  \n",
       "718                       0.0                                       NaN  \n",
       "719                       0.0                                       NaN  \n",
       "720                       0.0                                       NaN  \n",
       "\n",
       "[721 rows x 8 columns]"
      ]
     },
     "execution_count": 38,
     "metadata": {},
     "output_type": "execute_result"
    }
   ],
   "source": [
    "df"
   ]
  },
  {
   "cell_type": "code",
   "execution_count": 37,
   "metadata": {},
   "outputs": [
    {
     "data": {
      "text/plain": [
       "array([nan])"
      ]
     },
     "execution_count": 37,
     "metadata": {},
     "output_type": "execute_result"
    }
   ],
   "source": [
    "df['sea_level_m'].unique()"
   ]
  },
  {
   "cell_type": "code",
   "execution_count": 20,
   "metadata": {},
   "outputs": [],
   "source": [
    "dates = pd.date_range('2023-12-29', '2024-01-03')"
   ]
  },
  {
   "cell_type": "code",
   "execution_count": 21,
   "metadata": {},
   "outputs": [
    {
     "data": {
      "text/plain": [
       "DatetimeIndex(['2023-12-29', '2023-12-30', '2023-12-31', '2024-01-01',\n",
       "               '2024-01-02', '2024-01-03'],\n",
       "              dtype='datetime64[ns]', freq='D')"
      ]
     },
     "execution_count": 21,
     "metadata": {},
     "output_type": "execute_result"
    }
   ],
   "source": [
    "dates"
   ]
  },
  {
   "cell_type": "code",
   "execution_count": 22,
   "metadata": {},
   "outputs": [],
   "source": [
    "df = pd.DataFrame(index=dates)"
   ]
  },
  {
   "cell_type": "code",
   "execution_count": 24,
   "metadata": {},
   "outputs": [],
   "source": [
    "df['week_of_year'] = df.index.isocalendar().week"
   ]
  },
  {
   "cell_type": "code",
   "execution_count": 26,
   "metadata": {},
   "outputs": [
    {
     "data": {
      "text/plain": [
       "Index([4, 5, 6, 0, 1, 2], dtype='int32')"
      ]
     },
     "execution_count": 26,
     "metadata": {},
     "output_type": "execute_result"
    }
   ],
   "source": [
    "df.index.dayofweek"
   ]
  },
  {
   "cell_type": "code",
   "execution_count": null,
   "metadata": {},
   "outputs": [],
   "source": []
  }
 ],
 "metadata": {
  "kernelspec": {
   "display_name": "benz",
   "language": "python",
   "name": "python3"
  },
  "language_info": {
   "codemirror_mode": {
    "name": "ipython",
    "version": 3
   },
   "file_extension": ".py",
   "mimetype": "text/x-python",
   "name": "python",
   "nbconvert_exporter": "python",
   "pygments_lexer": "ipython3",
   "version": "3.12.7"
  }
 },
 "nbformat": 4,
 "nbformat_minor": 2
}
